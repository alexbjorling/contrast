{
 "cells": [
  {
   "cell_type": "markdown",
   "id": "6daf22a3",
   "metadata": {},
   "source": [
    "# Library tutorial\n",
    "\n",
    "This is a walkthrough of the main `contrast` classes corresponding to motors and detectors. These are the classes that are most often written to keep up with beamline developments and experimental needs. It shows in notebook format how to create, operate on, and write your own classes representing beamline components."
   ]
  },
  {
   "cell_type": "markdown",
   "id": "fc716ff8",
   "metadata": {},
   "source": [
    "## Motors"
   ]
  },
  {
   "cell_type": "markdown",
   "id": "44901bb4",
   "metadata": {},
   "source": [
    "### Pure Python library"
   ]
  },
  {
   "cell_type": "markdown",
   "id": "fd405ce7",
   "metadata": {},
   "source": [
    "Motors represent things that the user can directly affect. Obviously actual stepper, piezo, and servo motors, but also other things that are typically set from software, like temperatures or output voltages.\n",
    "\n",
    "The first thing to note is that contrast objects need names. Contrast (actually, the `Gadget` base class) uses these names to refer to objects in the inheritance tree. We need to supply the name explicitly, because Python objects don't have names, any number of references (variable names) can be made to point at the same object. We'll use the name (`motor`) for the `Gadget` and for the variable which refers to it.\n",
    "\n",
    "With that said, create a dummy motor to see what they can do!"
   ]
  },
  {
   "cell_type": "code",
   "execution_count": null,
   "id": "c0a94faf",
   "metadata": {},
   "outputs": [],
   "source": [
    "from contrast.motors import DummyMotor\n",
    "motor = DummyMotor(name='motor')\n",
    "print(motor)"
   ]
  },
  {
   "cell_type": "markdown",
   "id": "8c373813",
   "metadata": {},
   "source": [
    "Now, we have a dummy motor with the default settings. All `Motor` objects have a bunch of methods and properties. The most important one is the methods to move the motor and to read its current position."
   ]
  },
  {
   "cell_type": "code",
   "execution_count": null,
   "id": "9f440feb",
   "metadata": {},
   "outputs": [],
   "source": [
    "import time\n",
    "motor.move(2.)\n",
    "time.sleep(2.)\n",
    "motor.dial_position"
   ]
  },
  {
   "cell_type": "markdown",
   "id": "a44edacf",
   "metadata": {},
   "source": [
    "As you can see, `move()` starts the motion, but it does not block the execution of the program. This is useful when moving many independent motors together. Of course, often you do want to wait for the motor to finish by blocking the calling code. This can be done by checking the `Motor`'s `busy()` method."
   ]
  },
  {
   "cell_type": "code",
   "execution_count": null,
   "id": "a4cc9cd5",
   "metadata": {},
   "outputs": [],
   "source": [
    "motor.move(-2)\n",
    "while motor.busy():\n",
    "    time.sleep(.25)\n",
    "    print(motor.dial_position)"
   ]
  },
  {
   "cell_type": "markdown",
   "id": "35cc5bf3",
   "metadata": {},
   "source": [
    "That's really all we need to know about motors. But there are some convenient properties which make motor objects easier to user experimentally.\n",
    "\n",
    "The first is that we can defined user positions while still keeping track of the positions reported by the hardware. This is useful for setting some motor to zero in a reference position, to change units, or to invert an axis. The transformation can set by changing the `user_position` attribute, which internally updates the `_offset` and `_scaling` variables. The positions are calculated as\n",
    "\n",
    "$$\\mathrm{(user\\ position)} = \\mathrm{(dial\\ position)} * \\mathrm{scaling} + \\mathrm{offset}$$."
   ]
  },
  {
   "cell_type": "code",
   "execution_count": null,
   "id": "515a6379",
   "metadata": {},
   "outputs": [],
   "source": [
    "print(motor.user_position, motor.dial_position)\n",
    "motor.user_position = 12\n",
    "print(motor.user_position, motor.dial_position, motor._offset)"
   ]
  },
  {
   "cell_type": "markdown",
   "id": "a152d3df",
   "metadata": {},
   "source": [
    "For full control, you can write directly to the `_offset` and `_scaling` variables."
   ]
  },
  {
   "cell_type": "code",
   "execution_count": null,
   "id": "384ce134",
   "metadata": {},
   "outputs": [],
   "source": [
    "print(motor.user_position)\n",
    "motor._offset = 0\n",
    "motor._scaling = -1\n",
    "print(motor.user_position)"
   ]
  },
  {
   "cell_type": "markdown",
   "id": "c8817b44",
   "metadata": {},
   "source": [
    "The second helpful property is that you can set software limits, which is a simple way to avoid making mistakes and crashing things at the beamline. We can set the limits using the library, either in dial or user coordinates. The `Motor` class automatically keeps track of dial and user limits by respecting the dial limits, re-calculating user limits as needed."
   ]
  },
  {
   "cell_type": "code",
   "execution_count": null,
   "id": "2ae3933c",
   "metadata": {},
   "outputs": [],
   "source": [
    "motor._offset = 105\n",
    "motor._scaling = 1\n",
    "motor.user_limits = (90, 110)\n",
    "print(motor.dial_limits)"
   ]
  },
  {
   "cell_type": "markdown",
   "id": "d752896c",
   "metadata": {},
   "source": [
    "At a beamline, these parameters are usually known, and can be declared when the motor object is created."
   ]
  },
  {
   "cell_type": "code",
   "execution_count": null,
   "id": "488b3a04",
   "metadata": {},
   "outputs": [],
   "source": [
    "motor2 = DummyMotor(name='motor2', scaling=-1, offset=100, dial_limits=(-5, 5))"
   ]
  },
  {
   "cell_type": "markdown",
   "id": "cb56ac86",
   "metadata": {},
   "source": [
    "### Motor macros"
   ]
  },
  {
   "cell_type": "markdown",
   "id": "826af292",
   "metadata": {},
   "source": [
    "In practical beamline use, we often interact with motors using argument syntax macros instead of python syntax, just because macro syntax is more familiar to users and easier to type. The library module `contrast.motors` defines a bunch of macros to make motor handling more convenient. For example, we can print the current position of a motor using `%wm`."
   ]
  },
  {
   "cell_type": "code",
   "execution_count": null,
   "id": "3003b8e2",
   "metadata": {},
   "outputs": [],
   "source": [
    "%wm motor2"
   ]
  },
  {
   "cell_type": "markdown",
   "id": "f250f094",
   "metadata": {},
   "source": [
    "As with the rest of contrast, macros are stored in the library together with the classes they are meant to operate on. So in the `contrast.motors.Motor` module, we can find familiar macros like `%wa`, `%umv`, `%umvr`, etc. After reading the above description of the `Motor` API, it should be quite clear to see how these macros operate on `Motor` objects, simply by calling `move()`, setting `_offset`, `_scaling`, and `dial_limits`."
   ]
  },
  {
   "cell_type": "markdown",
   "id": "1298645c",
   "metadata": {},
   "source": [
    "### Creating our own `Motor`"
   ]
  },
  {
   "cell_type": "markdown",
   "id": "efa2e3df",
   "metadata": {},
   "source": [
    "To create your own `Motor` class, a subclass is created that handles peculiarities of whatever motor we want to interface. The `Motor` base class ([source code](https://contrast.readthedocs.io/en/latest/_modules/contrast/motors/Motor.html#Motor)) contains three methods which need writing. Two of these were introduced above, and the third is quite obvious.\n",
    "\n",
    "1. `dial_position`, which reads the current motor position or initiates a movement,\n",
    "2. `busy()`, which tells if the motor is doing something or whether it is at the commanded position, and\n",
    "3. `stop()`, which stops any motion.\n",
    "\n",
    "Here we'll create a dummy motor which simply goes directly to the commanded position."
   ]
  },
  {
   "cell_type": "code",
   "execution_count": null,
   "id": "bdb3e8a5",
   "metadata": {},
   "outputs": [],
   "source": [
    "from contrast.motors import Motor\n",
    "\n",
    "class PretendMotor(Motor):\n",
    "    \n",
    "    def __init__(self, **kwargs):\n",
    "        super().__init__(**kwargs)  # call the base class constructor, Motor.__init__()\n",
    "        self._pos = 0  # A variable for the commanded position\n",
    "        \n",
    "    @property\n",
    "    def dial_position(self):\n",
    "        # here we'd normally ask the physical motor where it is\n",
    "        return self._pos\n",
    "\n",
    "    @dial_position.setter\n",
    "    def dial_position(self, pos):\n",
    "        # here we'd normally tell the motor where to go\n",
    "        self._pos = pos\n",
    "        \n",
    "    def busy(self):\n",
    "        # here we'd normally ask the motor if it's on target\n",
    "        return False\n",
    "\n",
    "    def stop(self):\n",
    "        # here we'd normally stop any motor motion\n",
    "        print('stopping %s' % self.name)\n",
    "        "
   ]
  },
  {
   "cell_type": "markdown",
   "id": "eb18228e",
   "metadata": {},
   "source": [
    "First we set up the object and do any initialization. This is Python boilerplate and half the internet describes how to do it. Next we write the code that moves the motor and reads its position via `dial_position`. This is supplied as a python property, with a getter and a setter, and the second half of the internet explains how these work. Lastly, `busy` and `stop` are written, but in this case they won't do much since the motor goes directly to the target."
   ]
  },
  {
   "cell_type": "markdown",
   "id": "59d2474b",
   "metadata": {},
   "source": [
    "Now let's see if it works! Note that inheritaning `Motor` means that all macros, user positions and limits, work. Neat!"
   ]
  },
  {
   "cell_type": "code",
   "execution_count": null,
   "id": "df1e2803",
   "metadata": {},
   "outputs": [],
   "source": [
    "pret = PretendMotor(name='pret', dial_limits=(-10, 10))\n",
    "%mv pret 3.14\n",
    "%wm pret"
   ]
  },
  {
   "cell_type": "markdown",
   "id": "8b864a98",
   "metadata": {},
   "source": [
    "## Detectors"
   ]
  },
  {
   "cell_type": "markdown",
   "id": "e9e8e4eb",
   "metadata": {},
   "source": [
    "### Library basics"
   ]
  },
  {
   "cell_type": "markdown",
   "id": "537f19e6",
   "metadata": {},
   "source": [
    "Detectors include actual X-ray detectors, but also any number or other piece of information that can be acquired from the beamline. It's often vert useful to be able to throw together a `Detector` subclass to interface with user equipment.\n",
    "\n",
    "Detectors are also `Gadget`s, and as such need names. Let's make a dummy detector to see how it works."
   ]
  },
  {
   "cell_type": "code",
   "execution_count": null,
   "id": "27b4ec71",
   "metadata": {},
   "outputs": [],
   "source": [
    "from contrast.detectors import DummyDetector\n",
    "det = DummyDetector(name='det')"
   ]
  },
  {
   "cell_type": "markdown",
   "id": "63914955",
   "metadata": {},
   "source": [
    "Now let's see how to operate on a detector. `contrast` defines a sequence of method calls for data acquisition.\n",
    "\n",
    "1. `prepare()` sets up the detector for the coming measurements (scan),\n",
    "2. `arm()` is called before every measurement (scan point),\n",
    "3. `start()` is called to initiate every measurement (scan point),\n",
    "4. `read()` is used after each measurement (scan point) to get the data.\n",
    "5. `busy()` is used to see if a detector is busy measuring,\n",
    "6. `stop()` is used to abort an ongoing measurement, and\n",
    "\n",
    "A data acquisition routine is essentially just a loop calling these detector methods and perhaps moving motors and shuffling data in between. Each detector works differently, so what is acually done in `prepare()`, `arm()`, and `start()` differs. Some detectors (Eigers and Merlins) arm for hardware triggers already in `prepare()` and then just wait, some detectors need to be armed on every step, and some detectors simply grab a Tango value when you call `start()`.\n",
    "\n",
    "Below is a simple data acquisition loop which reads 10 random values from our dummy motor."
   ]
  },
  {
   "cell_type": "code",
   "execution_count": null,
   "id": "8cf27832",
   "metadata": {},
   "outputs": [],
   "source": [
    "det.prepare(acqtime=.5, dataid=None)\n",
    "for i in range(10):\n",
    "    det.start()\n",
    "    while det.busy():\n",
    "        time.sleep(.1)\n",
    "    print(det.read())"
   ]
  },
  {
   "cell_type": "markdown",
   "id": "5f8187d6",
   "metadata": {},
   "source": [
    "### Detector macros"
   ]
  },
  {
   "cell_type": "markdown",
   "id": "dee7f98e",
   "metadata": {},
   "source": [
    "Just like motors, a number of convenience macros are defined in the `contrast.detectors.Detector` module. For example, the `%lsdet` macro lists all current detectors."
   ]
  },
  {
   "cell_type": "code",
   "execution_count": null,
   "id": "65158b74",
   "metadata": {},
   "outputs": [],
   "source": [
    "%lsdet"
   ]
  },
  {
   "cell_type": "markdown",
   "id": "34f2afef",
   "metadata": {},
   "source": [
    "`Detector` objects have an `active` attribute which indicate whether that particular detector should be used data acquisition. The macros `%activate` and `%deactivate` toggle this flag in a helpful way. The `%lsdet` output also indicates whether each detector is active."
   ]
  },
  {
   "cell_type": "code",
   "execution_count": null,
   "id": "061d952a",
   "metadata": {},
   "outputs": [],
   "source": [
    "det2 = DummyDetector(name='det2')\n",
    "det3 = DummyDetector(name='det3')\n",
    "\n",
    "%deactivate det\n",
    "%deactivate det2\n",
    "%lsdet"
   ]
  },
  {
   "cell_type": "code",
   "execution_count": null,
   "id": "58f7bd4c",
   "metadata": {},
   "outputs": [],
   "source": [
    "%activate det*\n",
    "%lsdet"
   ]
  },
  {
   "cell_type": "markdown",
   "id": "5d8a43c0",
   "metadata": {},
   "source": [
    "### Writing our own detector"
   ]
  },
  {
   "cell_type": "markdown",
   "id": "715e144d",
   "metadata": {},
   "source": [
    "Writing `Detector` subclasses involves a few more methods than for 'Motor's. Depending on the specifics of the physical detector, many of these methods are essentially empty. Here, we'll write a detector which records a one-dimensional array of numbers at each measurement. For details on the arguments to `prepare()`, see the [base class documentation](file:///home/alex/sw/contrast/docs/build/html/contrast.detectors.html#contrast.detectors.Detector.Detector)."
   ]
  },
  {
   "cell_type": "code",
   "execution_count": null,
   "id": "2e2782dc",
   "metadata": {},
   "outputs": [],
   "source": [
    "from contrast.detectors import Detector\n",
    "import numpy as np\n",
    "\n",
    "class VectorDetector(Detector):\n",
    "\n",
    "    def initialize(self):\n",
    "        # normally, we'd set up connections to the detector here\n",
    "        self._started = 0\n",
    "        self._acqtime = 1.\n",
    "    \n",
    "    def prepare(self, acqtime, dataid=None, n_starts=None):\n",
    "        self._acqtime = acqtime\n",
    "\n",
    "    def arm(self):\n",
    "        self.values = None  # clear any old data\n",
    "\n",
    "    def start(self):\n",
    "        self._started = time.time()\n",
    "        self.values = (np.random.rand(10) * 256).astype(int)\n",
    "\n",
    "    def stop(self):\n",
    "        self._acqtime = 0.\n",
    "\n",
    "    def busy(self):\n",
    "        return (time.time() < self._started + self._acqtime)\n",
    "\n",
    "    def read(self):\n",
    "        return self.values"
   ]
  },
  {
   "cell_type": "markdown",
   "id": "86d2aedf",
   "metadata": {},
   "source": [
    "Now we can carry out the same data acquisition loop that we did above, using our brand new home-made dummy."
   ]
  },
  {
   "cell_type": "code",
   "execution_count": null,
   "id": "48de26f9",
   "metadata": {},
   "outputs": [],
   "source": [
    "vector = VectorDetector(name='vector')\n",
    "\n",
    "vector.prepare(acqtime=.5, dataid=None)\n",
    "for i in range(10):\n",
    "    vector.start()\n",
    "    while vector.busy():\n",
    "        time.sleep(.1)\n",
    "    print(vector.read())"
   ]
  },
  {
   "cell_type": "markdown",
   "id": "d2023a05",
   "metadata": {},
   "source": [
    "In fact, this little loop represents most of what data acquisition is. We already have enough motors and detectors to use the full scanning machinery of `contrast`, which is basically just loops like this with prettier printing and passing of data to `Recorder` objects. We'll finish with running a simple contrast `dscan`."
   ]
  },
  {
   "cell_type": "code",
   "execution_count": null,
   "id": "72acfc47",
   "metadata": {},
   "outputs": [],
   "source": [
    "%dscan motor -2 2 50 .1"
   ]
  }
 ],
 "metadata": {
  "kernelspec": {
   "display_name": "Python 3 (ipykernel)",
   "language": "python",
   "name": "python3"
  },
  "language_info": {
   "codemirror_mode": {
    "name": "ipython",
    "version": 3
   },
   "file_extension": ".py",
   "mimetype": "text/x-python",
   "name": "python",
   "nbconvert_exporter": "python",
   "pygments_lexer": "ipython3",
   "version": "3.10.4"
  }
 },
 "nbformat": 4,
 "nbformat_minor": 5
}
