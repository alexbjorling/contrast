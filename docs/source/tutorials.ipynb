{
 "cells": [
  {
   "cell_type": "markdown",
   "id": "6daf22a3",
   "metadata": {},
   "source": [
    "# Library tutorial\n",
    "\n",
    "This is a walkthrough of the main `contrast` classes corresponding to motors and detectors. These are the classes that are most often written to keep up with beamline developments and experimental needs. It shows in notebook format how to create, operate on, and write your own classes representing beamline components."
   ]
  },
  {
   "cell_type": "markdown",
   "id": "fc716ff8",
   "metadata": {},
   "source": [
    "## Motors"
   ]
  },
  {
   "cell_type": "markdown",
   "id": "44901bb4",
   "metadata": {},
   "source": [
    "### Pure Python library"
   ]
  },
  {
   "cell_type": "markdown",
   "id": "fd405ce7",
   "metadata": {},
   "source": [
    "Motors represent things that the user can directly affect. Obviously actual stepper, piezo, and servo motors, but also other things that are typically set from software, like temperatures or output voltages.\n",
    "\n",
    "The first thing to note is that contrast objects need names. Contrast (actually, the `Gadget` base class) uses these names to refer to objects in the inheritance tree. We need to supply the name explicitly, because Python objects don't have names, any number of references (variable names) can be made to point at the same object. We'll use the name (`motor`) for the `Gadget` and for the variable which refers to it.\n",
    "\n",
    "With that said, create a dummy motor to see what they can do!"
   ]
  },
  {
   "cell_type": "code",
   "execution_count": 1,
   "id": "c0a94faf",
   "metadata": {},
   "outputs": [
    {
     "name": "stdout",
     "output_type": "stream",
     "text": [
      "<contrast.motors.Motor.DummyMotor object at 0x7ff9fa3f25f0>\n"
     ]
    }
   ],
   "source": [
    "from contrast.motors import DummyMotor\n",
    "motor = DummyMotor(name='motor')\n",
    "print(motor)"
   ]
  },
  {
   "cell_type": "markdown",
   "id": "8c373813",
   "metadata": {},
   "source": [
    "Now, we have a dummy motor with the default settings. All `Motor` objects have a bunch of methods and properties. The most important one is the methods to move the motor and to read its current position."
   ]
  },
  {
   "cell_type": "code",
   "execution_count": 2,
   "id": "9f440feb",
   "metadata": {},
   "outputs": [
    {
     "data": {
      "text/plain": [
       "2.0"
      ]
     },
     "execution_count": 2,
     "metadata": {},
     "output_type": "execute_result"
    }
   ],
   "source": [
    "import time\n",
    "motor.move(2.)\n",
    "time.sleep(2.)\n",
    "motor.dial_position"
   ]
  },
  {
   "cell_type": "markdown",
   "id": "a44edacf",
   "metadata": {},
   "source": [
    "As you can see, `move()` starts the motion, but it does not block the execution of the program. This is useful when moving many independent motors together. Of course, often you do want to wait for the motor to finish by blocking the calling code. This can be done by checking the `Motor`'s `busy()` method."
   ]
  },
  {
   "cell_type": "code",
   "execution_count": 3,
   "id": "a4cc9cd5",
   "metadata": {},
   "outputs": [
    {
     "name": "stdout",
     "output_type": "stream",
     "text": [
      "1.7492051124572754\n",
      "1.4984304904937744\n",
      "1.2479321956634521\n",
      "0.9974651336669922\n",
      "0.7466552257537842\n",
      "0.4960012435913086\n",
      "0.24565672874450684\n",
      "-0.004782438278198242\n",
      "-0.25547075271606445\n",
      "-0.5059936046600342\n",
      "-0.7565896511077881\n",
      "-1.0072903633117676\n",
      "-1.2579386234283447\n",
      "-1.5091404914855957\n",
      "-1.7599785327911377\n",
      "-2.0\n"
     ]
    }
   ],
   "source": [
    "motor.move(-2)\n",
    "while motor.busy():\n",
    "    time.sleep(.25)\n",
    "    print(motor.dial_position)"
   ]
  },
  {
   "cell_type": "markdown",
   "id": "35cc5bf3",
   "metadata": {},
   "source": [
    "That's really all we need to know about motors. But there are some convenient properties which make motor objects easier to user experimentally.\n",
    "\n",
    "The first is that we can defined user positions while still keeping track of the positions reported by the hardware. This is useful for setting some motor to zero in a reference position, to change units, or to invert an axis. The transformation can set by changing the `user_position` attribute, which internally updates the `_offset` and `_scaling` variables. The positions are calculated as\n",
    "\n",
    "$$\\mathrm{(user\\ position)} = \\mathrm{(dial\\ position)} * \\mathrm{scaling} + \\mathrm{offset}$$."
   ]
  },
  {
   "cell_type": "code",
   "execution_count": 4,
   "id": "515a6379",
   "metadata": {},
   "outputs": [
    {
     "name": "stdout",
     "output_type": "stream",
     "text": [
      "-2.0 -2.0\n",
      "12.0 -2.0 14.0\n"
     ]
    }
   ],
   "source": [
    "print(motor.user_position, motor.dial_position)\n",
    "motor.user_position = 12\n",
    "print(motor.user_position, motor.dial_position, motor._offset)"
   ]
  },
  {
   "cell_type": "markdown",
   "id": "a152d3df",
   "metadata": {},
   "source": [
    "For full control, you can write directly to the `_offset` and `_scaling` variables."
   ]
  },
  {
   "cell_type": "code",
   "execution_count": 5,
   "id": "384ce134",
   "metadata": {},
   "outputs": [
    {
     "name": "stdout",
     "output_type": "stream",
     "text": [
      "12.0\n",
      "2.0\n"
     ]
    }
   ],
   "source": [
    "print(motor.user_position)\n",
    "motor._offset = 0\n",
    "motor._scaling = -1\n",
    "print(motor.user_position)"
   ]
  },
  {
   "cell_type": "markdown",
   "id": "c8817b44",
   "metadata": {},
   "source": [
    "The second helpful property is that you can set software limits, which is a simple way to avoid making mistakes and crashing things at the beamline. We can set the limits using the library, either in dial or user coordinates. The `Motor` class automatically keeps track of dial and user limits by respecting the dial limits, re-calculating user limits as needed."
   ]
  },
  {
   "cell_type": "code",
   "execution_count": 6,
   "id": "2ae3933c",
   "metadata": {},
   "outputs": [
    {
     "name": "stdout",
     "output_type": "stream",
     "text": [
      "(-15.0, 5.0)\n"
     ]
    }
   ],
   "source": [
    "motor._offset = 105\n",
    "motor._scaling = 1\n",
    "motor.user_limits = (90, 110)\n",
    "print(motor.dial_limits)"
   ]
  },
  {
   "cell_type": "markdown",
   "id": "d752896c",
   "metadata": {},
   "source": [
    "At a beamline, these parameters are usually known, and can be declared when the motor object is created."
   ]
  },
  {
   "cell_type": "code",
   "execution_count": 7,
   "id": "488b3a04",
   "metadata": {},
   "outputs": [],
   "source": [
    "motor2 = DummyMotor(name='motor2', scaling=-1, offset=100, dial_limits=(-5, 5))"
   ]
  },
  {
   "cell_type": "markdown",
   "id": "cb56ac86",
   "metadata": {},
   "source": [
    "### Motor macros"
   ]
  },
  {
   "cell_type": "markdown",
   "id": "826af292",
   "metadata": {},
   "source": [
    "In practical beamline use, we often interact with motors using argument syntax macros instead of python syntax, just because macro syntax is more familiar to users and easier to type. The library module `contrast.motors` defines a bunch of macros to make motor handling more convenient. For example, we can print the current position of a motor using `%wm`."
   ]
  },
  {
   "cell_type": "code",
   "execution_count": 8,
   "id": "3003b8e2",
   "metadata": {},
   "outputs": [
    {
     "name": "stdout",
     "output_type": "stream",
     "text": [
      "motor      user pos.  limits              dial pos.  limits       \n",
      "------------------------------------------------------------------\n",
      "motor2     100.00     (95.00, 105.00)     0.00       (-5.00, 5.00)\n"
     ]
    }
   ],
   "source": [
    "%wm motor2"
   ]
  },
  {
   "cell_type": "markdown",
   "id": "f250f094",
   "metadata": {},
   "source": [
    "As with the rest of contrast, macros are stored in the library together with the classes they are meant to operate on. So in the `contrast.motors.Motor` module, we can find familiar macros like `%wa`, `%umv`, `%umvr`, etc. After reading the above description of the `Motor` API, it should be quite clear to see how these macros operate on `Motor` objects, simply by calling `move()`, setting `_offset`, `_scaling`, and `dial_limits`."
   ]
  },
  {
   "cell_type": "markdown",
   "id": "1298645c",
   "metadata": {},
   "source": [
    "### Creating our own `Motor`"
   ]
  },
  {
   "cell_type": "markdown",
   "id": "efa2e3df",
   "metadata": {},
   "source": [
    "To create your own `Motor` class, a subclass is created that handles peculiarities of whatever motor we want to interface. The `Motor` base class ([source code](https://contrast.readthedocs.io/en/latest/_modules/contrast/motors/Motor.html#Motor)) contains three methods which need writing. Two of these were introduced above, and the third is quite obvious.\n",
    "\n",
    "1. `dial_position`, which reads the current motor position or initiates a movement,\n",
    "2. `busy()`, which tells if the motor is doing something or whether it is at the commanded position, and\n",
    "3. `stop()`, which stops any motion.\n",
    "\n",
    "Here we'll create a dummy motor which simply goes directly to the commanded position."
   ]
  },
  {
   "cell_type": "code",
   "execution_count": 9,
   "id": "bdb3e8a5",
   "metadata": {},
   "outputs": [],
   "source": [
    "from contrast.motors import Motor\n",
    "\n",
    "class PretendMotor(Motor):\n",
    "    \n",
    "    def __init__(self, **kwargs):\n",
    "        super().__init__(**kwargs)  # call the base class constructor, Motor.__init__()\n",
    "        self._pos = 0  # A variable for the commanded position\n",
    "        \n",
    "    @property\n",
    "    def dial_position(self):\n",
    "        # here we'd normally ask the physical motor where it is\n",
    "        return self._pos\n",
    "\n",
    "    @dial_position.setter\n",
    "    def dial_position(self, pos):\n",
    "        # here we'd normally tell the motor where to go\n",
    "        self._pos = pos\n",
    "        \n",
    "    def busy(self):\n",
    "        # here we'd normally ask the motor if it's on target\n",
    "        return False\n",
    "\n",
    "    def stop(self):\n",
    "        # here we'd normally stop any motor motion\n",
    "        print('stopping %s' % self.name)\n",
    "        "
   ]
  },
  {
   "cell_type": "markdown",
   "id": "eb18228e",
   "metadata": {},
   "source": [
    "First we set up the object and do any initialization. This is Python boilerplate and half the internet describes how to do it. Next we write the code that moves the motor and reads its position via `dial_position`. This is supplied as a python property, with a getter and a setter, and the second half of the internet explains how these work. Lastly, `busy` and `stop` are written, but in this case they won't do much since the motor goes directly to the target."
   ]
  },
  {
   "cell_type": "markdown",
   "id": "59d2474b",
   "metadata": {},
   "source": [
    "Now let's see if it works! Note that inheritaning `Motor` means that all macros, user positions and limits, work. Neat!"
   ]
  },
  {
   "cell_type": "code",
   "execution_count": 10,
   "id": "df1e2803",
   "metadata": {},
   "outputs": [
    {
     "name": "stdout",
     "output_type": "stream",
     "text": [
      "motor     user pos.  limits              dial pos.  limits         \n",
      "-------------------------------------------------------------------\n",
      "pret      3.14       (-10.00, 10.00)     3.14       (-10.00, 10.00)\n"
     ]
    }
   ],
   "source": [
    "pret = PretendMotor(name='pret', dial_limits=(-10, 10))\n",
    "%mv pret 3.14\n",
    "%wm pret"
   ]
  },
  {
   "cell_type": "markdown",
   "id": "8b864a98",
   "metadata": {},
   "source": [
    "## Detectors"
   ]
  },
  {
   "cell_type": "markdown",
   "id": "e9e8e4eb",
   "metadata": {},
   "source": [
    "### Library basics"
   ]
  },
  {
   "cell_type": "markdown",
   "id": "537f19e6",
   "metadata": {},
   "source": [
    "Detectors include actual X-ray detectors, but also any number or other piece of information that can be acquired from the beamline. It's often vert useful to be able to throw together a `Detector` subclass to interface with user equipment.\n",
    "\n",
    "Detectors are also `Gadget`s, and as such need names. Let's make a dummy detector to see how it works."
   ]
  },
  {
   "cell_type": "code",
   "execution_count": 11,
   "id": "27b4ec71",
   "metadata": {},
   "outputs": [],
   "source": [
    "from contrast.detectors import DummyDetector\n",
    "det = DummyDetector(name='det')"
   ]
  },
  {
   "cell_type": "markdown",
   "id": "63914955",
   "metadata": {},
   "source": [
    "Now let's see how to operate on a detector. `contrast` defines a sequence of method calls for data acquisition.\n",
    "\n",
    "1. `prepare()` sets up the detector for the coming measurements (scan),\n",
    "2. `arm()` is called before every measurement (scan point),\n",
    "3. `start()` is called to initiate every measurement (scan point),\n",
    "4. `read()` is used after each measurement (scan point) to get the data.\n",
    "5. `busy()` is used to see if a detector is busy measuring,\n",
    "6. `stop()` is used to abort an ongoing measurement, and\n",
    "\n",
    "A data acquisition routine is essentially just a loop calling these detector methods and perhaps moving motors and shuffling data in between. Each detector works differently, so what is acually done in `prepare()`, `arm()`, and `start()` differs. Some detectors (Eigers and Merlins) arm for hardware triggers already in `prepare()` and then just wait, some detectors need to be armed on every step, and some detectors simply grab a Tango value when you call `start()`.\n",
    "\n",
    "Below is a simple data acquisition loop which reads 10 random values from our dummy motor."
   ]
  },
  {
   "cell_type": "code",
   "execution_count": 12,
   "id": "8cf27832",
   "metadata": {},
   "outputs": [
    {
     "name": "stdout",
     "output_type": "stream",
     "text": [
      "0.25522956639538624\n",
      "0.36131685864428864\n",
      "0.040930917409371936\n",
      "0.1051702747833535\n",
      "0.31914542954134684\n",
      "0.15060114030997912\n",
      "0.20663198199888383\n",
      "0.1806497765655678\n",
      "0.43178245930706183\n",
      "0.03773864409700489\n"
     ]
    }
   ],
   "source": [
    "det.prepare(acqtime=.5, dataid=None)\n",
    "for i in range(10):\n",
    "    det.start()\n",
    "    while det.busy():\n",
    "        time.sleep(.1)\n",
    "    print(det.read())"
   ]
  },
  {
   "cell_type": "markdown",
   "id": "5f8187d6",
   "metadata": {},
   "source": [
    "### Detector macros"
   ]
  },
  {
   "cell_type": "markdown",
   "id": "dee7f98e",
   "metadata": {},
   "source": [
    "Just like motors, a number of convenience macros are defined in the `contrast.detectors.Detector` module. For example, the `%lsdet` macro lists all current detectors."
   ]
  },
  {
   "cell_type": "code",
   "execution_count": 13,
   "id": "65158b74",
   "metadata": {},
   "outputs": [
    {
     "name": "stdout",
     "output_type": "stream",
     "text": [
      "\n",
      "  name   class                                             \n",
      "-----------------------------------------------------------\n",
      "* det    <class 'contrast.detectors.Dummies.DummyDetector'>\n"
     ]
    }
   ],
   "source": [
    "%lsdet"
   ]
  },
  {
   "cell_type": "markdown",
   "id": "34f2afef",
   "metadata": {},
   "source": [
    "`Detector` objects have an `active` attribute which indicate whether that particular detector should be used data acquisition. The macros `%activate` and `%deactivate` toggle this flag in a helpful way. The `%lsdet` output also indicates whether each detector is active."
   ]
  },
  {
   "cell_type": "code",
   "execution_count": 14,
   "id": "061d952a",
   "metadata": {},
   "outputs": [
    {
     "name": "stdout",
     "output_type": "stream",
     "text": [
      "\n",
      "  name   class                                             \n",
      "-----------------------------------------------------------\n",
      "  det    <class 'contrast.detectors.Dummies.DummyDetector'>\n",
      "  det2   <class 'contrast.detectors.Dummies.DummyDetector'>\n",
      "* det3   <class 'contrast.detectors.Dummies.DummyDetector'>\n"
     ]
    }
   ],
   "source": [
    "det2 = DummyDetector(name='det2')\n",
    "det3 = DummyDetector(name='det3')\n",
    "\n",
    "%deactivate det\n",
    "%deactivate det2\n",
    "%lsdet"
   ]
  },
  {
   "cell_type": "code",
   "execution_count": 15,
   "id": "58f7bd4c",
   "metadata": {},
   "outputs": [
    {
     "name": "stdout",
     "output_type": "stream",
     "text": [
      "\n",
      "  name   class                                             \n",
      "-----------------------------------------------------------\n",
      "* det    <class 'contrast.detectors.Dummies.DummyDetector'>\n",
      "* det2   <class 'contrast.detectors.Dummies.DummyDetector'>\n",
      "* det3   <class 'contrast.detectors.Dummies.DummyDetector'>\n"
     ]
    }
   ],
   "source": [
    "%activate det*\n",
    "%lsdet"
   ]
  },
  {
   "cell_type": "markdown",
   "id": "5d8a43c0",
   "metadata": {},
   "source": [
    "### Writing our own detector"
   ]
  },
  {
   "cell_type": "markdown",
   "id": "715e144d",
   "metadata": {},
   "source": [
    "Writing `Detector` subclasses involves a few more methods than for 'Motor's. Depending on the specifics of the physical detector, many of these methods are essentially empty. Here, we'll write a detector which records a one-dimensional array of numbers at each measurement. For details on the arguments to `prepare()`, see the [base class documentation](file:///home/alex/sw/contrast/docs/build/html/contrast.detectors.html#contrast.detectors.Detector.Detector)."
   ]
  },
  {
   "cell_type": "code",
   "execution_count": 16,
   "id": "2e2782dc",
   "metadata": {},
   "outputs": [],
   "source": [
    "from contrast.detectors import Detector\n",
    "import numpy as np\n",
    "\n",
    "class VectorDetector(Detector):\n",
    "\n",
    "    def initialize(self):\n",
    "        # normally, we'd set up connections to the detector here\n",
    "        self._started = 0\n",
    "        self._acqtime = 1.\n",
    "    \n",
    "    def prepare(self, acqtime, dataid=None, n_starts=None):\n",
    "        self._acqtime = acqtime\n",
    "\n",
    "    def arm(self):\n",
    "        self.values = None  # clear any old data\n",
    "\n",
    "    def start(self):\n",
    "        self._started = time.time()\n",
    "        self.values = (np.random.rand(10) * 256).astype(int)\n",
    "\n",
    "    def stop(self):\n",
    "        self._acqtime = 0.\n",
    "\n",
    "    def busy(self):\n",
    "        return (time.time() < self._started + self._acqtime)\n",
    "\n",
    "    def read(self):\n",
    "        return self.values"
   ]
  },
  {
   "cell_type": "markdown",
   "id": "86d2aedf",
   "metadata": {},
   "source": [
    "Now we can carry out the same data acquisition loop that we did above, using our brand new home-made dummy."
   ]
  },
  {
   "cell_type": "code",
   "execution_count": 17,
   "id": "48de26f9",
   "metadata": {},
   "outputs": [
    {
     "name": "stdout",
     "output_type": "stream",
     "text": [
      "[ 40 196 108  49 156  83 112 241 114  25]\n",
      "[ 19  45 175 198   3 145 129 235  52  69]\n",
      "[121  50  92 178   3 248 129  76 205 240]\n",
      "[ 32 114  56 236 149  60  39   7 162 139]\n",
      "[  9 109  54 216 136 239  84 212 138 160]\n",
      "[209  37  39 113 236 165  93  98 125 136]\n",
      "[  5 199 199  19 206  39 163 128 135  75]\n",
      "[ 35  54  26 215   6 112 237 169 100 115]\n",
      "[ 60 165  82  50 156 202 189 218  61  49]\n",
      "[ 18  23 161  84 204 138  20  37  73 224]\n"
     ]
    }
   ],
   "source": [
    "vector = VectorDetector(name='vector')\n",
    "\n",
    "vector.prepare(acqtime=.5, dataid=None)\n",
    "for i in range(10):\n",
    "    vector.start()\n",
    "    while vector.busy():\n",
    "        time.sleep(.1)\n",
    "    print(vector.read())"
   ]
  },
  {
   "cell_type": "markdown",
   "id": "d2023a05",
   "metadata": {},
   "source": [
    "In fact, this little loop represents most of what data acquisition is. We already have enough motors and detectors to use the full scanning machinery of `contrast`, which is basically just loops like this with prettier printing and passing of data to `Recorder` objects. We'll finish with running a simple contrast `dscan`."
   ]
  },
  {
   "cell_type": "code",
   "execution_count": 19,
   "id": "72acfc47",
   "metadata": {},
   "outputs": [
    {
     "name": "stdout",
     "output_type": "stream",
     "text": [
      "\n",
      "Scan #1 starting at Wed Dec  7 15:53:31 2022\n",
      "\n",
      "     #       motor        det2        det3        vector         det      dt\n",
      "----------------------------------------------------------------------------\n",
      "     0   1.010e+02   3.466e-02   4.017e-02  [  9,...,176   9.759e-02   2.115\n",
      "     1   1.011e+02   5.556e-02   8.096e-02  [249,...,177   6.730e-02   2.309\n",
      "     2   1.012e+02   3.479e-02   7.042e-02  [255,..., 15   3.412e-02   2.496\n",
      "     3   1.012e+02   9.498e-02   2.602e-02  [248,...,127   1.531e-03   2.686\n",
      "     4   1.013e+02   6.478e-02   7.987e-02  [187,..., 73   7.590e-02   2.878\n",
      "     5   1.014e+02   5.116e-02   3.666e-03  [159,..., 94   4.080e-02   3.064\n",
      "     6   1.015e+02   3.705e-02   6.817e-02  [ 91,...,123   5.753e-02   3.254\n",
      "     7   1.016e+02   3.181e-02   3.236e-02  [102,...,206   9.709e-02   3.447\n",
      "     8   1.016e+02   7.951e-02   5.428e-02  [117,..., 83   6.331e-02   3.637\n",
      "     9   1.017e+02   5.982e-02   1.103e-02  [161,...,155   7.714e-02   3.828\n",
      "    10   1.018e+02   3.427e-02   7.799e-02  [209,..., 35   8.861e-02   4.014\n",
      "    11   1.019e+02   3.337e-03   2.127e-02  [207,...,207   1.243e-03   4.204\n",
      "    12   1.020e+02   3.150e-02   6.335e-02  [179,..., 69   1.644e-02   4.396\n",
      "    13   1.020e+02   3.918e-02   7.221e-02   [68,...,16]   8.992e-02   4.587\n",
      "    14   1.021e+02   8.819e-02   7.743e-02  [193,...,231   3.935e-02   4.772\n",
      "    15   1.022e+02   8.064e-02   8.821e-02  [143,...,150   3.739e-02   4.957\n",
      "    16   1.023e+02   5.679e-02   1.443e-02  [ 94,...,253   4.534e-02   5.150\n",
      "    17   1.024e+02   3.624e-02   4.468e-02  [ 51,...,132   2.107e-02   5.335\n",
      "    18   1.024e+02   2.208e-02   3.477e-02  [208,...,211   4.318e-02   5.524\n",
      "    19   1.025e+02   8.526e-02   4.741e-02   [ 2,...,85]   7.533e-02   5.710\n",
      "    20   1.026e+02   4.652e-02   7.890e-02  [198,...,210   1.750e-02   5.900\n",
      "    21   1.027e+02   8.771e-02   4.872e-02  [233,..., 50   3.169e-02   6.085\n",
      "    22   1.028e+02   6.304e-02   2.127e-02  [172,..., 54   9.312e-02   6.269\n",
      "    23   1.028e+02   6.174e-03   2.060e-02  [ 58,...,163   6.494e-02   6.459\n",
      "    24   1.029e+02   4.207e-02   6.064e-02  [180,..., 68   1.153e-02   6.647\n",
      "    25   1.030e+02   9.379e-02   7.280e-02   [62,...,52]   1.131e-02   6.832\n",
      "    26   1.031e+02   8.558e-02   3.709e-02  [135,..., 50   1.827e-02   7.021\n",
      "    27   1.032e+02   8.841e-02   3.342e-02  [124,...,242   9.861e-02   7.208\n",
      "    28   1.032e+02   9.588e-02   5.276e-02  [236,..., 70   6.021e-02   7.396\n",
      "    29   1.033e+02   1.100e-02   2.555e-02  [ 25,...,119   7.739e-02   7.585\n",
      "    30   1.034e+02   4.758e-02   1.578e-02  [159,...,140   8.846e-02   7.772\n",
      "    31   1.035e+02   2.810e-03   9.027e-02  [132,...,119   8.285e-02   7.956\n",
      "    32   1.036e+02   7.447e-02   1.488e-02  [217,...,168   4.160e-02   8.143\n",
      "    33   1.036e+02   1.124e-02   6.242e-02  [189,...,174   6.156e-02   8.326\n",
      "    34   1.037e+02   3.980e-02   1.494e-02  [124,...,185   5.730e-02   8.510\n",
      "    35   1.038e+02   7.096e-02   6.057e-02  [239,...,202   8.135e-02   8.693\n",
      "    36   1.039e+02   8.090e-02   4.910e-03  [187,...,101   8.896e-02   8.876\n",
      "    37   1.040e+02   7.707e-02   2.592e-02  [ 77,...,188   5.994e-02   9.060\n",
      "    38   1.040e+02   4.331e-02   6.001e-02  [253,...,186   9.366e-02   9.244\n",
      "    39   1.041e+02   8.529e-02   6.728e-02  [234,...,243   2.785e-02   9.428\n",
      "    40   1.042e+02   8.774e-02   6.742e-02  [213,...,227   8.089e-02   9.611\n",
      "    41   1.043e+02   2.786e-02   1.900e-02  [ 64,...,232   2.505e-02   9.795\n",
      "    42   1.044e+02   2.196e-02   1.742e-02  [102,...,189   5.676e-02   9.982\n",
      "    43   1.044e+02   6.298e-02   1.295e-02  [232,...,125   4.654e-02  10.171\n",
      "    44   1.045e+02   5.435e-02   7.778e-02   [41,...,21]   9.932e-02  10.356\n",
      "    45   1.046e+02   6.725e-02   9.929e-02  [159,...,143   5.215e-02  10.540\n",
      "    46   1.047e+02   5.201e-02   8.711e-02  [ 92,...,233   8.630e-02  10.727\n",
      "    47   1.048e+02   3.732e-02   7.908e-03  [246,...,156   8.105e-03  10.913\n",
      "    48   1.048e+02   3.305e-02   9.938e-02  [ 14,...,232   1.011e-02  11.098\n",
      "    49   1.049e+02   9.009e-02   9.408e-02  [ 74,...,143   3.211e-02  11.285\n",
      "    50   1.050e+02   2.554e-03   9.743e-02   [27,...,63]   5.413e-02  11.472\n",
      "Time left: 0:00:00\n",
      "Scan #1 ending at Wed Dec  7 15:53:42 2022\n",
      "Returning motors to their starting positions...\n",
      "...done\n"
     ]
    }
   ],
   "source": [
    "%dscan motor -2 2 50 .1"
   ]
  }
 ],
 "metadata": {
  "kernelspec": {
   "display_name": "Python 3 (ipykernel)",
   "language": "python",
   "name": "python3"
  },
  "language_info": {
   "codemirror_mode": {
    "name": "ipython",
    "version": 3
   },
   "file_extension": ".py",
   "mimetype": "text/x-python",
   "name": "python",
   "nbconvert_exporter": "python",
   "pygments_lexer": "ipython3",
   "version": "3.10.4"
  }
 },
 "nbformat": 4,
 "nbformat_minor": 5
}
